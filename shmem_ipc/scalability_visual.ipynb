{
 "cells": [
  {
   "cell_type": "code",
   "execution_count": 5,
   "metadata": {},
   "outputs": [],
   "source": [
    "import pandas as pd\n",
    "import seaborn as sns\n",
    "\n",
    "sns.set_theme(style=\"darkgrid\")\n",
    "sns.set_palette(\"Set2\")"
   ]
  },
  {
   "cell_type": "code",
   "execution_count": 6,
   "metadata": {},
   "outputs": [
    {
     "ename": "SyntaxError",
     "evalue": "invalid syntax (4100394227.py, line 7)",
     "output_type": "error",
     "traceback": [
      "\u001b[0;36m  Cell \u001b[0;32mIn [6], line 7\u001b[0;36m\u001b[0m\n\u001b[0;31m    loop_count = int(lines[ct++])\u001b[0m\n\u001b[0m                               ^\u001b[0m\n\u001b[0;31mSyntaxError\u001b[0m\u001b[0;31m:\u001b[0m invalid syntax\n"
     ]
    }
   ],
   "source": [
    "# Cell that reading Log file\n",
    "logfile = open('scalability.log', 'r')\n",
    "lines = logfile.readlines()\n",
    "\n",
    "# Parse experiment config\n",
    "loop_count = int(lines[0])\n",
    "client_start = int(lines[1])\n",
    "max_clients = int(lines[2])\n",
    "iterations = int(lines[3])\n",

    "\n",
    "# Preparing columns\n",
    "run_numbers = []\n",
    "client_ids = []\n",
    "latency = []\n",
    "num_cur_clients = []\n",
    "approaches = []\n",
    "\n",
    "ct = 4\n",
    "# Parse experiment results\n",
    "for num_clients in range(client_start, max_clients+1):\n",
    "    for i in range (loop_count):\n",
    "        for id in range(0, num_clients):\n",
    "            run_numbers.append(i)\n",
    "            client_ids.append(id)\n",
    "            latency.append(float(lines[ct]))\n",
    "            num_cur_clients.append(num_clients)\n",
    "            approaches.append(\"independent unelevated\")\n",
    "            ct += 1\n",
    "    for i in range (loop_count):\n",
    "        for id in range(0, num_clients):\n",
    "            run_numbers.append(i)\n",
    "            client_ids.append(id)\n",
    "            latency.append(float(lines[ct]))\n",
    "            num_cur_clients.append(num_clients)\n",
    "            approaches.append(\"server client unelevated\")\n",
    "            ct += 1\n",
    "\n",
    "\"\"\"\n",
    "for i in range (loop_count):\n",
    "    for id in range(0, max_clients+1):\n",
    "        run_numbers.append(i)\n",
    "        client_ids.append(id)\n",
    "        latency.append(float(lines[ct]))\n",
    "        num_cur_clients.append(max_clients+1)\n",
    "        approaches.append(\"independent unelevated\")\n",
    "        ct += 1\n",
    "\"\"\"\n",
    "\n",
    "# Prepare dataframe\n",
    "\n",
    "dict = {\n",
    "    'run#': run_numbers,\n",
    "    'client_id': client_ids,\n",
    "    'latency': latency,\n",
    "    'num clients': num_cur_clients,\n",
    "    'approach': approaches\n",
    "}\n",
    "\n",
    "df = pd.DataFrame(dict)\n",
    "\n",
    "df['throughput'] = ([iterations]*len(df)) / df['latency']\n",
    "df.head()"
   ]
  },
  {
   "cell_type": "code",
   "execution_count": null,
   "metadata": {},
   "outputs": [],
   "source": [
    "p1=sns.lmplot(data=df, x=\"num clients\", y=\"throughput\", hue=\"approach\",  height=10)\n",
    "p1.set_axis_labels(\"number of concurrent clients\", \"throughput (req per second)\")"
   ]
  },
  {
   "cell_type": "code",
   "execution_count": null,
   "metadata": {},
   "outputs": [],

   "source": [
    "avg_df = df.groupby([\"num clients\", \"approach\"])[\"throughput\"].mean().reset_index()\n",
    "p2=sns.lineplot(data=avg_df, x=\"num clients\", y=\"throughput\", hue=\"approach\")"
   ]
  }
 ],
 "metadata": {
  "kernelspec": {
   "display_name": "Python 3 (ipykernel)",
   "language": "python",
   "name": "python3"
  },
  "language_info": {
   "codemirror_mode": {
    "name": "ipython",
    "version": 3
   },
   "file_extension": ".py",
   "mimetype": "text/x-python",
   "name": "python",
   "nbconvert_exporter": "python",
   "pygments_lexer": "ipython3",
   "version": "3.10.7"
  },
  "vscode": {
   "interpreter": {
    "hash": "e7370f93d1d0cde622a1f8e1c04877d8463912d04d973331ad4851f04de6915a"
   }
  }
 },
 "nbformat": 4,
 "nbformat_minor": 2
}
